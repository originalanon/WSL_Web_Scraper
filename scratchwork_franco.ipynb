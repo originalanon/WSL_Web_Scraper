{
 "cells": [
  {
   "cell_type": "code",
   "execution_count": 1,
   "metadata": {},
   "outputs": [
    {
     "name": "stderr",
     "output_type": "stream",
     "text": [
      "/home/mick/anaconda3/lib/python3.7/site-packages/statsmodels/tools/_testing.py:19: FutureWarning: pandas.util.testing is deprecated. Use the functions in the public API at pandas.testing instead.\n",
      "  import pandas.util.testing as tm\n"
     ]
    }
   ],
   "source": [
    "import numpy as np\n",
    "import pandas as pd\n",
    "\n",
    "import pandas_datareader as pdr\n",
    "\n",
    "import datetime as dt\n",
    "\n",
    "import matplotlib.pyplot as plt\n",
    "import seaborn as sns"
   ]
  },
  {
   "cell_type": "code",
   "execution_count": null,
   "metadata": {},
   "outputs": [],
   "source": []
  },
  {
   "cell_type": "code",
   "execution_count": 5,
   "metadata": {},
   "outputs": [],
   "source": [
    "# ENTER YOUR SETTINGS HERE\n",
    "stock_ticker = ['CCL','RCL','NCLH']\n",
    "start_date = '2015-01-01'\n",
    "end_date = '2020-12-31'"
   ]
  },
  {
   "cell_type": "code",
   "execution_count": 6,
   "metadata": {},
   "outputs": [],
   "source": [
    "i=0"
   ]
  },
  {
   "cell_type": "code",
   "execution_count": 7,
   "metadata": {},
   "outputs": [
    {
     "data": {
      "text/html": [
       "<div>\n",
       "<style scoped>\n",
       "    .dataframe tbody tr th:only-of-type {\n",
       "        vertical-align: middle;\n",
       "    }\n",
       "\n",
       "    .dataframe tbody tr th {\n",
       "        vertical-align: top;\n",
       "    }\n",
       "\n",
       "    .dataframe thead th {\n",
       "        text-align: right;\n",
       "    }\n",
       "</style>\n",
       "<table border=\"1\" class=\"dataframe\">\n",
       "  <thead>\n",
       "    <tr style=\"text-align: right;\">\n",
       "      <th></th>\n",
       "      <th>Date</th>\n",
       "      <th>High</th>\n",
       "      <th>Low</th>\n",
       "      <th>Open</th>\n",
       "      <th>Close</th>\n",
       "      <th>Volume</th>\n",
       "      <th>Adj Close</th>\n",
       "    </tr>\n",
       "  </thead>\n",
       "  <tbody>\n",
       "    <tr>\n",
       "      <th>0</th>\n",
       "      <td>2015-01-02</td>\n",
       "      <td>46.110001</td>\n",
       "      <td>45.310001</td>\n",
       "      <td>45.910000</td>\n",
       "      <td>45.610001</td>\n",
       "      <td>2769700.0</td>\n",
       "      <td>38.915905</td>\n",
       "    </tr>\n",
       "    <tr>\n",
       "      <th>1</th>\n",
       "      <td>2015-01-05</td>\n",
       "      <td>46.200001</td>\n",
       "      <td>45.299999</td>\n",
       "      <td>46.180000</td>\n",
       "      <td>45.389999</td>\n",
       "      <td>4301500.0</td>\n",
       "      <td>38.728199</td>\n",
       "    </tr>\n",
       "    <tr>\n",
       "      <th>2</th>\n",
       "      <td>2015-01-06</td>\n",
       "      <td>46.169998</td>\n",
       "      <td>45.020000</td>\n",
       "      <td>45.630001</td>\n",
       "      <td>45.830002</td>\n",
       "      <td>6216100.0</td>\n",
       "      <td>39.103615</td>\n",
       "    </tr>\n",
       "    <tr>\n",
       "      <th>3</th>\n",
       "      <td>2015-01-07</td>\n",
       "      <td>46.290001</td>\n",
       "      <td>45.740002</td>\n",
       "      <td>45.889999</td>\n",
       "      <td>46.000000</td>\n",
       "      <td>7102600.0</td>\n",
       "      <td>39.248669</td>\n",
       "    </tr>\n",
       "    <tr>\n",
       "      <th>4</th>\n",
       "      <td>2015-01-08</td>\n",
       "      <td>46.970001</td>\n",
       "      <td>46.029999</td>\n",
       "      <td>46.070000</td>\n",
       "      <td>46.680000</td>\n",
       "      <td>4910000.0</td>\n",
       "      <td>39.828869</td>\n",
       "    </tr>\n",
       "    <tr>\n",
       "      <th>...</th>\n",
       "      <td>...</td>\n",
       "      <td>...</td>\n",
       "      <td>...</td>\n",
       "      <td>...</td>\n",
       "      <td>...</td>\n",
       "      <td>...</td>\n",
       "      <td>...</td>\n",
       "    </tr>\n",
       "    <tr>\n",
       "      <th>1506</th>\n",
       "      <td>2020-12-24</td>\n",
       "      <td>21.080000</td>\n",
       "      <td>20.430000</td>\n",
       "      <td>20.980000</td>\n",
       "      <td>20.840000</td>\n",
       "      <td>14819300.0</td>\n",
       "      <td>20.840000</td>\n",
       "    </tr>\n",
       "    <tr>\n",
       "      <th>1507</th>\n",
       "      <td>2020-12-28</td>\n",
       "      <td>22.049999</td>\n",
       "      <td>21.020000</td>\n",
       "      <td>21.309999</td>\n",
       "      <td>21.709999</td>\n",
       "      <td>33112800.0</td>\n",
       "      <td>21.709999</td>\n",
       "    </tr>\n",
       "    <tr>\n",
       "      <th>1508</th>\n",
       "      <td>2020-12-29</td>\n",
       "      <td>22.270000</td>\n",
       "      <td>21.360001</td>\n",
       "      <td>22.219999</td>\n",
       "      <td>21.430000</td>\n",
       "      <td>26851200.0</td>\n",
       "      <td>21.430000</td>\n",
       "    </tr>\n",
       "    <tr>\n",
       "      <th>1509</th>\n",
       "      <td>2020-12-30</td>\n",
       "      <td>22.090000</td>\n",
       "      <td>21.379999</td>\n",
       "      <td>21.520000</td>\n",
       "      <td>21.790001</td>\n",
       "      <td>23606400.0</td>\n",
       "      <td>21.790001</td>\n",
       "    </tr>\n",
       "    <tr>\n",
       "      <th>1510</th>\n",
       "      <td>2020-12-31</td>\n",
       "      <td>21.790001</td>\n",
       "      <td>20.900000</td>\n",
       "      <td>21.620001</td>\n",
       "      <td>21.660000</td>\n",
       "      <td>25679300.0</td>\n",
       "      <td>21.660000</td>\n",
       "    </tr>\n",
       "  </tbody>\n",
       "</table>\n",
       "<p>1511 rows × 7 columns</p>\n",
       "</div>"
      ],
      "text/plain": [
       "           Date       High        Low       Open      Close      Volume  \\\n",
       "0    2015-01-02  46.110001  45.310001  45.910000  45.610001   2769700.0   \n",
       "1    2015-01-05  46.200001  45.299999  46.180000  45.389999   4301500.0   \n",
       "2    2015-01-06  46.169998  45.020000  45.630001  45.830002   6216100.0   \n",
       "3    2015-01-07  46.290001  45.740002  45.889999  46.000000   7102600.0   \n",
       "4    2015-01-08  46.970001  46.029999  46.070000  46.680000   4910000.0   \n",
       "...         ...        ...        ...        ...        ...         ...   \n",
       "1506 2020-12-24  21.080000  20.430000  20.980000  20.840000  14819300.0   \n",
       "1507 2020-12-28  22.049999  21.020000  21.309999  21.709999  33112800.0   \n",
       "1508 2020-12-29  22.270000  21.360001  22.219999  21.430000  26851200.0   \n",
       "1509 2020-12-30  22.090000  21.379999  21.520000  21.790001  23606400.0   \n",
       "1510 2020-12-31  21.790001  20.900000  21.620001  21.660000  25679300.0   \n",
       "\n",
       "      Adj Close  \n",
       "0     38.915905  \n",
       "1     38.728199  \n",
       "2     39.103615  \n",
       "3     39.248669  \n",
       "4     39.828869  \n",
       "...         ...  \n",
       "1506  20.840000  \n",
       "1507  21.709999  \n",
       "1508  21.430000  \n",
       "1509  21.790001  \n",
       "1510  21.660000  \n",
       "\n",
       "[1511 rows x 7 columns]"
      ]
     },
     "execution_count": 7,
     "metadata": {},
     "output_type": "execute_result"
    }
   ],
   "source": [
    "# Get the stock dataframe\n",
    "df = pdr.DataReader(stock_ticker[i], data_source='yahoo', start=start_date, end=end_date)\n",
    "\n",
    "# Reset the index column\n",
    "df.reset_index(inplace=True)\n",
    "\n",
    "df"
   ]
  },
  {
   "cell_type": "markdown",
   "metadata": {},
   "source": [
    "# Scraper"
   ]
  },
  {
   "cell_type": "code",
   "execution_count": 36,
   "metadata": {},
   "outputs": [],
   "source": [
    "import requests\n",
    "import urllib.request\n",
    "import time\n",
    "import pandas as pd\n",
    "from bs4 import BeautifulSoup\n",
    "from lxml import etree\n",
    "import pickle\n",
    "import re"
   ]
  },
  {
   "cell_type": "code",
   "execution_count": 62,
   "metadata": {},
   "outputs": [],
   "source": [
    "# Set the URL for collecting the data.\n",
    "url = 'https://sec.report/Document/0000884887-21-000006/'\n",
    "#url = 'https://en.wikipedia.org/wiki/Nike,_Inc.'\n",
    "\n",
    "page_response = requests.get(url)\n",
    "\n",
    "# The BeautifulSoup code for the page response\n",
    "page_soup = BeautifulSoup(page_response.text, 'html.parser')"
   ]
  },
  {
   "cell_type": "code",
   "execution_count": 63,
   "metadata": {},
   "outputs": [
    {
     "data": {
      "text/plain": [
       "[]"
      ]
     },
     "execution_count": 63,
     "metadata": {},
     "output_type": "execute_result"
    }
   ],
   "source": [
    "dom = etree.HTML(str(page_soup))\n",
    "#dom.xpath('//*[@id=\"firstHeading\"]')[0].text\n",
    "#dom.xpath('/html/body/div[1]/div/div[3]/div[3]/div/div/div[636]/table/tbody/tr[6]/td[3]/span')\n",
    "dom.xpath('/html/body/div[1]/div/div[3]/div[3]/div/div/div[636]/table/tbody/tr[6]/td[3]')"
   ]
  },
  {
   "cell_type": "code",
   "execution_count": 34,
   "metadata": {},
   "outputs": [],
   "source": [
    "revenue_2020 = page_soup.find('div',class_='panel-heading')\n",
    "#revenue_2020 = page_soup.find('div',class_='addthis_inline_share_toolbox')\n",
    "revenue_2020"
   ]
  },
  {
   "cell_type": "code",
   "execution_count": 31,
   "metadata": {},
   "outputs": [
    {
     "name": "stdout",
     "output_type": "stream",
     "text": [
      "None\n"
     ]
    }
   ],
   "source": [
    "print(revenue_2020)"
   ]
  },
  {
   "cell_type": "code",
   "execution_count": null,
   "metadata": {},
   "outputs": [],
   "source": []
  }
 ],
 "metadata": {
  "kernelspec": {
   "display_name": "Python 3",
   "language": "python",
   "name": "python3"
  },
  "language_info": {
   "codemirror_mode": {
    "name": "ipython",
    "version": 3
   },
   "file_extension": ".py",
   "mimetype": "text/x-python",
   "name": "python",
   "nbconvert_exporter": "python",
   "pygments_lexer": "ipython3",
   "version": "3.7.3"
  }
 },
 "nbformat": 4,
 "nbformat_minor": 4
}
